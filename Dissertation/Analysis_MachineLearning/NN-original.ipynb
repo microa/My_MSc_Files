{
 "cells": [
  {
   "cell_type": "code",
   "execution_count": 45,
   "metadata": {},
   "outputs": [],
   "source": [
    "%matplotlib inline\n",
    "import os\n",
    "import matplotlib.pyplot as plt\n",
    "import scipy.io as scio\n",
    "\n",
    "import pandas as pd\n",
    "import numpy as np\n",
    "\n",
    "import tensorflow as tf\n",
    "from keras.models import Model,load_model\n",
    "from keras.layers import Input,Dense,RepeatVector,BatchNormalization,Activation,Dropout\n",
    "from keras.optimizers import  Adam\n",
    "from keras.callbacks import ModelCheckpoint,TensorBoard\n",
    "from keras import regularizers\n",
    "from keras.utils import to_categorical\n",
    "\n",
    "from sklearn.preprocessing import StandardScaler\n",
    "from sklearn.model_selection import train_test_split\n",
    "from sklearn.metrics import confusion_matrix,precision_recall_curve\n",
    "from sklearn.metrics import recall_score,classification_report,auc,roc_curve\n",
    "from sklearn.metrics import precision_recall_fscore_support,f1_score\n",
    "\n",
    "from numpy.random import seed\n",
    "seed(1)\n",
    "\n",
    "os.environ['PYTHONHASHSEED']=str(0)\n",
    "SEED=2019\n",
    "DATA_SPLIT_PCT=0.2\n",
    "\n",
    "nb_epoch=200\n",
    "batch_size=64\n",
    "input_dim=152\n",
    "encoding_dim=64\n",
    "hidden_dim=int(encoding_dim/2)\n",
    "learning_rate=1e-3"
   ]
  },
  {
   "cell_type": "code",
   "execution_count": 46,
   "metadata": {},
   "outputs": [
    {
     "data": {
      "text/plain": [
       "(2169, 153)"
      ]
     },
     "execution_count": 46,
     "metadata": {},
     "output_type": "execute_result"
    }
   ],
   "source": [
    "# Import pandas library\n",
    "import pandas as pd\n",
    "import numpy as np\n",
    "# Read csv data file\n",
    "# Data without feature standardization\n",
    "df = pd.read_csv('Labelled50GapRandom_LabelSc.csv')\n",
    "# View the number of rows and columns\n",
    "df.head()\n",
    "df.dtypes\n",
    "df.shape"
   ]
  },
  {
   "cell_type": "code",
   "execution_count": 47,
   "metadata": {},
   "outputs": [],
   "source": [
    "# Import LabelEncoder\n",
    "from sklearn import preprocessing\n",
    "# Create LabelEncoder\n",
    "le = preprocessing.LabelEncoder()"
   ]
  },
  {
   "cell_type": "code",
   "execution_count": 48,
   "metadata": {},
   "outputs": [],
   "source": [
    "# Indicate the target column\n",
    "target = df['Label_mL']\n",
    "# Indicate the columns that will serve as features\n",
    "features = df.drop('Label_mL', axis = 1)"
   ]
  },
  {
   "cell_type": "code",
   "execution_count": 49,
   "metadata": {},
   "outputs": [
    {
     "data": {
      "text/plain": [
       "\"\\nfeatures = df[[  'Signal012',\\n                'Signal013',\\n                'Signal112',\\n                'Signal711',\\n                'Signal712',\\n                'Signal713',\\n                'Signal714' ]]   \\nprint(features.shape)\\n\""
      ]
     },
     "execution_count": 49,
     "metadata": {},
     "output_type": "execute_result"
    }
   ],
   "source": [
    "'''\n",
    "features = df[[  'Signal012',\n",
    "                'Signal013',\n",
    "                'Signal112',\n",
    "                'Signal711',\n",
    "                'Signal712',\n",
    "                'Signal713',\n",
    "                'Signal714' ]]   \n",
    "print(features.shape)\n",
    "'''"
   ]
  },
  {
   "cell_type": "code",
   "execution_count": 50,
   "metadata": {},
   "outputs": [
    {
     "name": "stdout",
     "output_type": "stream",
     "text": [
      "(868, 152)\n"
     ]
    }
   ],
   "source": [
    "# Split data into train, validation and test sets\n",
    "# Import train_test_split function\n",
    "from sklearn.model_selection import train_test_split\n",
    "# Split the dataset into training + development set and test set\n",
    "x_train, x_test, y_train, y_test = train_test_split(features, target, test_size = 0.4, random_state = 0)\n",
    "# Split the dataset into training set and development set\n",
    "#x_train, x_dev, y_train, y_dev = train_test_split(x, y, test_size = 0.4, random_state = 10)\n",
    "y_test_cate=to_categorical(y_test,num_classes=11)\n",
    "y_train_cate=to_categorical(y_train,num_classes=11)\n",
    "#数据标准化\n",
    "scaler=StandardScaler().fit(x_train)\n",
    "x_train_rescaled=scaler.transform(x_train)\n",
    "x_test_rescaled=scaler.transform(x_test)\n",
    "print(x_test.shape)"
   ]
  },
  {
   "cell_type": "code",
   "execution_count": 51,
   "metadata": {},
   "outputs": [
    {
     "name": "stdout",
     "output_type": "stream",
     "text": [
      "28/28 [==============================] - 0s 501us/step - loss: 0.0472 - accuracy: 0.9965\n",
      "28/28 [==============================] - 0s 510us/step - loss: 0.0181 - accuracy: 0.9965\n",
      "28/28 [==============================] - 0s 552us/step - loss: 0.0099 - accuracy: 0.9977\n",
      "28/28 [==============================] - 0s 522us/step - loss: 0.0209 - accuracy: 0.9965\n",
      "28/28 [==============================] - 0s 518us/step - loss: 0.0064 - accuracy: 0.9977\n",
      "28/28 [==============================] - 0s 546us/step - loss: 0.0187 - accuracy: 0.9965\n",
      "28/28 [==============================] - 0s 488us/step - loss: 0.0040 - accuracy: 0.9977\n",
      "28/28 [==============================] - 0s 536us/step - loss: 0.0046 - accuracy: 0.9988\n",
      "28/28 [==============================] - 0s 515us/step - loss: 0.0091 - accuracy: 0.9965\n",
      "28/28 [==============================] - 0s 513us/step - loss: 0.0397 - accuracy: 0.9965\n",
      "0.9971198081970215 0.0007728376254959564\n"
     ]
    }
   ],
   "source": [
    "PRE=[]\n",
    "TRUE=[]\n",
    "ACC=[]\n",
    "for i in range(10):\n",
    "#autoencoder\n",
    "    input_layer=Input(shape=(input_dim,))\n",
    "#编码层\n",
    "    encoder=Dense(encoding_dim,activation=\"relu\")(input_layer)\n",
    "\n",
    "    encoder=Dense(hidden_dim,activation=\"relu\")(encoder)\n",
    "#解码层\n",
    "    decoder=Dense(hidden_dim,activation=\"sigmoid\")(encoder)\n",
    "\n",
    "    decoder=Dense(encoding_dim,activation=\"sigmoid\")(decoder)\n",
    "\n",
    "    aux_output=Dense(input_dim,activation=\"linear\",name='autoencoder')(decoder)\n",
    "#fenleiqi\n",
    "    LR=Dense(11,activation=\"softmax\",name='LR')(encoder)\n",
    "\n",
    "    autoencoder=Model(inputs=input_layer,outputs=LR)\n",
    "\n",
    "    # Training\n",
    "# 选择评价函数，选择优化器，指定损失函数\n",
    "    autoencoder.compile(metrics=['accuracy'],\n",
    "                        loss= ['categorical_crossentropy'],\n",
    "                        optimizer=Adam(lr=learning_rate),\n",
    "                        loss_weights= 1)\n",
    "\n",
    "    cp = ModelCheckpoint(filepath=\"autoencoder_classifier.h5\",\n",
    "                        save_best_only=True,\n",
    "                        monitor='val_LR_accuracy',\n",
    "                        verbose = 0)\n",
    "\n",
    "    tb = TensorBoard(log_dir='./logs',\n",
    "                    histogram_freq=0,\n",
    "                    write_graph=True,\n",
    "                    write_images=True)\n",
    "\n",
    "    history = autoencoder.fit(x_train_rescaled,y_train_cate,\n",
    "                          epochs=nb_epoch,\n",
    "                          batch_size=batch_size,\n",
    "                          shuffle=True,\n",
    "                          validation_data=(x_test_rescaled, y_test_cate),\n",
    "                          verbose=0).history\n",
    "    acc=autoencoder.evaluate(x_test_rescaled,y_test_cate)\n",
    "    pre=autoencoder.predict(x_test_rescaled)\n",
    "    y_pred=np.argmax(pre,axis=1)\n",
    "    PRE.append(y_pred)\n",
    "    TRUE.append(y_test)\n",
    "    ACC.append(acc[1])\n",
    "print(np.mean(ACC),np.std(ACC))\n"
   ]
  },
  {
   "cell_type": "code",
   "execution_count": 52,
   "metadata": {},
   "outputs": [],
   "source": [
    "pre_y=np.array(PRE).reshape(8680)\n",
    "true_y=np.array(TRUE).reshape(8680)"
   ]
  },
  {
   "cell_type": "code",
   "execution_count": 53,
   "metadata": {},
   "outputs": [
    {
     "name": "stdout",
     "output_type": "stream",
     "text": [
      "[[910   0   0   0   0   0   0   0   0   0   0]\n",
      " [  0 870   0   0   0   4   0   0   0   0   0]\n",
      " [  0   0 750   0   0   0   0   0   0   0   0]\n",
      " [  0   0   0 810   0   0   0   0   0   0   0]\n",
      " [  0   0   0   0 760   0   0   0   0   0   0]\n",
      " [  0   0   0   0   0 585   0   0   0   0   0]\n",
      " [  0   0   0   0   0   1 750   0   0   0   0]\n",
      " [  0   0   0   0   0  10   0 770   0  10   0]\n",
      " [  0   0   0   0   0   0   0   0 890   0   0]\n",
      " [  0   0   0   0   0   0   0   0   0 790   0]\n",
      " [  0   0   0   0   0   0   0   0   0   0 770]]\n",
      "              precision    recall  f1-score   support\n",
      "\n",
      "           0       1.00      1.00      1.00       910\n",
      "           1       1.00      1.00      1.00       874\n",
      "           2       1.00      1.00      1.00       750\n",
      "           3       1.00      1.00      1.00       810\n",
      "           4       1.00      1.00      1.00       760\n",
      "           5       0.97      1.00      0.99       585\n",
      "           6       1.00      1.00      1.00       751\n",
      "           7       1.00      0.97      0.99       790\n",
      "           8       1.00      1.00      1.00       890\n",
      "           9       0.99      1.00      0.99       790\n",
      "          10       1.00      1.00      1.00       770\n",
      "\n",
      "    accuracy                           1.00      8680\n",
      "   macro avg       1.00      1.00      1.00      8680\n",
      "weighted avg       1.00      1.00      1.00      8680\n",
      "\n"
     ]
    }
   ],
   "source": [
    "# Import scikit-learn metrics methods\n",
    "from sklearn.metrics import classification_report, confusion_matrix\n",
    "# Print confusion matrix\n",
    "print(confusion_matrix(pre_y, true_y))\n",
    "# Print precision, recall and F1\n",
    "print(classification_report(pre_y, true_y))"
   ]
  },
  {
   "cell_type": "code",
   "execution_count": 61,
   "metadata": {},
   "outputs": [
    {
     "data": {
      "image/png": "[encoded data removed]",
      "text/plain": [
       "<Figure size 864x720 with 2 Axes>"
      ]
     },
     "metadata": {
      "needs_background": "light"
     },
     "output_type": "display_data"
    }
   ],
   "source": [
    "# Generating the correlation heatmap is optional\n",
    "# The heatmap is just a visualization of the correlation matrix\n",
    "# Import seaborn package to generate heatmap\n",
    "import seaborn as sns\n",
    "# Import pyplot to control the size of the plot\n",
    "import matplotlib.pyplot as plt\n",
    "# Set plot size\n",
    "plt.rcParams.update({'font.size': 15, 'figure.figsize': (10, 8)})\n",
    "plt.figure(figsize=(12,10))\n",
    "# Generate the heatmap\n",
    "ax = sns.heatmap(confusion_matrix(pre_y, true_y,normalize='true'),\n",
    " vmin = -1, vmax = 1, center = 0,\n",
    " cmap = sns.diverging_palette(20, 220, n=200),\n",
    " square = True,\n",
    " annot = True\n",
    "                )"
   ]
  }
 ],
 "metadata": {
  "interpreter": {
   "hash": "b537b1dd751544210bdb44ec945d42aadba0f25f6191778a96682424c86d577a"
  },
  "kernelspec": {
   "display_name": "Python 3",
   "language": "python",
   "name": "python3"
  },
  "language_info": {
   "codemirror_mode": {
    "name": "ipython",
    "version": 3
   },
   "file_extension": ".py",
   "mimetype": "text/x-python",
   "name": "python",
   "nbconvert_exporter": "python",
   "pygments_lexer": "ipython3",
   "version": "3.6.13"
  }
 },
 "nbformat": 4,
 "nbformat_minor": 2
}
